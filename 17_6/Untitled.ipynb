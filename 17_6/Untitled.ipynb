{
 "cells": [
  {
   "cell_type": "code",
   "execution_count": 10,
   "metadata": {},
   "outputs": [],
   "source": [
    "import pandas as pd\n",
    "import numpy as np"
   ]
  },
  {
   "cell_type": "code",
   "execution_count": 11,
   "metadata": {},
   "outputs": [],
   "source": [
    "import matplotlib.pyplot as plt"
   ]
  },
  {
   "cell_type": "code",
   "execution_count": 12,
   "metadata": {},
   "outputs": [],
   "source": [
    "X=pd.read_csv(\"./weightedX.csv\")\n",
    "Y=pd.read_csv(\"./weightedY.csv\")"
   ]
  },
  {
   "cell_type": "code",
   "execution_count": 13,
   "metadata": {},
   "outputs": [
    {
     "data": {
      "image/png": "[encoded data removed]",
      "text/plain": [
       "<Figure size 432x288 with 1 Axes>"
      ]
     },
     "metadata": {
      "needs_background": "light"
     },
     "output_type": "display_data"
    }
   ],
   "source": [
    "plt.scatter(X,Y)\n",
    "plt.show()"
   ]
  },
  {
   "cell_type": "code",
   "execution_count": 14,
   "metadata": {},
   "outputs": [],
   "source": [
    "X_Test=np.array([-3,-2,-1,0,1,2,5,10])"
   ]
  },
  {
   "cell_type": "code",
   "execution_count": 15,
   "metadata": {},
   "outputs": [
    {
     "name": "stdout",
     "output_type": "stream",
     "text": [
      "(99, 1)\n"
     ]
    }
   ],
   "source": [
    "print(X.shape)"
   ]
  },
  {
   "cell_type": "code",
   "execution_count": 16,
   "metadata": {},
   "outputs": [
    {
     "name": "stdout",
     "output_type": "stream",
     "text": [
      "(99, 1)\n"
     ]
    }
   ],
   "source": [
    "print(Y.shape)"
   ]
  },
  {
   "cell_type": "code",
   "execution_count": 18,
   "metadata": {},
   "outputs": [
    {
     "name": "stdout",
     "output_type": "stream",
     "text": [
      "<class 'pandas.core.frame.DataFrame'>\n"
     ]
    }
   ],
   "source": [
    "print(type(X))"
   ]
  },
  {
   "cell_type": "code",
   "execution_count": 56,
   "metadata": {},
   "outputs": [
    {
     "name": "stdout",
     "output_type": "stream",
     "text": [
      "[[ 1.0000e+00  1.0000e+00  2.3348e+00]\n",
      " [ 1.0000e+00  1.0000e+00  1.3264e-01]\n",
      " [ 1.0000e+00  1.0000e+00  2.3470e+00]\n",
      " [ 1.0000e+00  1.0000e+00  6.7389e+00]\n",
      " [ 1.0000e+00  1.0000e+00  3.7089e+00]\n",
      " [ 1.0000e+00  1.0000e+00  1.1853e+01]\n",
      " [ 1.0000e+00  1.0000e+00 -1.8708e+00]\n",
      " [ 1.0000e+00  1.0000e+00  4.5025e+00]\n",
      " [ 1.0000e+00  1.0000e+00  3.2798e+00]\n",
      " [ 1.0000e+00  1.0000e+00  1.7573e+00]\n",
      " [ 1.0000e+00  1.0000e+00  3.3784e+00]\n",
      " [ 1.0000e+00  1.0000e+00  1.1470e+01]\n",
      " [ 1.0000e+00  1.0000e+00  9.0595e+00]\n",
      " [ 1.0000e+00  1.0000e+00 -2.8174e+00]\n",
      " [ 1.0000e+00  1.0000e+00  9.3184e+00]\n",
      " [ 1.0000e+00  1.0000e+00  8.4211e+00]\n",
      " [ 1.0000e+00  1.0000e+00  8.6215e-01]\n",
      " [ 1.0000e+00  1.0000e+00  7.5544e+00]\n",
      " [ 1.0000e+00  1.0000e+00 -3.9883e+00]\n",
      " [ 1.0000e+00  1.0000e+00  4.4970e+00]\n",
      " [ 1.0000e+00  1.0000e+00  8.3062e+00]\n",
      " [ 1.0000e+00  1.0000e+00 -2.6070e+00]\n",
      " [ 1.0000e+00  1.0000e+00  4.4801e+00]\n",
      " [ 1.0000e+00  1.0000e+00 -1.5074e+00]\n",
      " [ 1.0000e+00  1.0000e+00  9.6284e+00]\n",
      " [ 1.0000e+00  1.0000e+00 -6.2500e-01]\n",
      " [ 1.0000e+00  1.0000e+00 -2.8016e-01]\n",
      " [ 1.0000e+00  1.0000e+00 -1.0117e-01]\n",
      " [ 1.0000e+00  1.0000e+00  7.4912e+00]\n",
      " [ 1.0000e+00  1.0000e+00  3.4492e+00]\n",
      " [ 1.0000e+00  1.0000e+00 -4.0706e+00]\n",
      " [ 1.0000e+00  1.0000e+00 -1.7481e+00]\n",
      " [ 1.0000e+00  1.0000e+00  7.3176e+00]\n",
      " [ 1.0000e+00  1.0000e+00  1.1552e+01]\n",
      " [ 1.0000e+00  1.0000e+00  6.9763e+00]\n",
      " [ 1.0000e+00  1.0000e+00  8.6259e+00]\n",
      " [ 1.0000e+00  1.0000e+00 -1.4938e+00]\n",
      " [ 1.0000e+00  1.0000e+00  8.1353e+00]\n",
      " [ 1.0000e+00  1.0000e+00  9.8359e+00]\n",
      " [ 1.0000e+00  1.0000e+00  8.7256e+00]\n",
      " [ 1.0000e+00  1.0000e+00  7.8627e+00]\n",
      " [ 1.0000e+00  1.0000e+00  1.0378e+01]\n",
      " [ 1.0000e+00  1.0000e+00  2.1570e+00]\n",
      " [ 1.0000e+00  1.0000e+00  6.1928e+00]\n",
      " [ 1.0000e+00  1.0000e+00 -4.9780e+00]\n",
      " [ 1.0000e+00  1.0000e+00  1.1694e+01]\n",
      " [ 1.0000e+00  1.0000e+00  2.0093e+00]\n",
      " [ 1.0000e+00  1.0000e+00  9.0916e-01]\n",
      " [ 1.0000e+00  1.0000e+00  6.3589e+00]\n",
      " [ 1.0000e+00  1.0000e+00  2.5425e+00]\n",
      " [ 1.0000e+00  1.0000e+00  9.2778e+00]\n",
      " [ 1.0000e+00  1.0000e+00  4.0018e+00]\n",
      " [ 1.0000e+00  1.0000e+00 -6.2860e-01]\n",
      " [ 1.0000e+00  1.0000e+00 -2.3429e+00]\n",
      " [ 1.0000e+00  1.0000e+00  4.4829e+00]\n",
      " [ 1.0000e+00  1.0000e+00  1.1342e+01]\n",
      " [ 1.0000e+00  1.0000e+00  1.1172e+01]\n",
      " [ 1.0000e+00  1.0000e+00  7.4927e+00]\n",
      " [ 1.0000e+00  1.0000e+00 -1.2166e+00]\n",
      " [ 1.0000e+00  1.0000e+00  3.4427e+00]\n",
      " [ 1.0000e+00  1.0000e+00 -4.8806e+00]\n",
      " [ 1.0000e+00  1.0000e+00  3.7526e-01]\n",
      " [ 1.0000e+00  1.0000e+00  7.5531e+00]\n",
      " [ 1.0000e+00  1.0000e+00  8.4357e+00]\n",
      " [ 1.0000e+00  1.0000e+00  1.8048e+00]\n",
      " [ 1.0000e+00  1.0000e+00  1.7981e+00]\n",
      " [ 1.0000e+00  1.0000e+00 -7.2124e-01]\n",
      " [ 1.0000e+00  1.0000e+00 -3.4375e+00]\n",
      " [ 1.0000e+00  1.0000e+00  5.2375e+00]\n",
      " [ 1.0000e+00  1.0000e+00  9.1516e+00]\n",
      " [ 1.0000e+00  1.0000e+00 -1.0777e-02]\n",
      " [ 1.0000e+00  1.0000e+00  2.9141e+00]\n",
      " [ 1.0000e+00  1.0000e+00 -4.2260e+00]\n",
      " [ 1.0000e+00  1.0000e+00 -3.5427e+00]\n",
      " [ 1.0000e+00  1.0000e+00  3.7235e+00]\n",
      " [ 1.0000e+00  1.0000e+00  7.1623e+00]\n",
      " [ 1.0000e+00  1.0000e+00 -4.3976e+00]\n",
      " [ 1.0000e+00  1.0000e+00  1.1653e+01]\n",
      " [ 1.0000e+00  1.0000e+00  3.4566e+00]\n",
      " [ 1.0000e+00  1.0000e+00  6.9126e+00]\n",
      " [ 1.0000e+00  1.0000e+00  8.6532e+00]\n",
      " [ 1.0000e+00  1.0000e+00  3.7835e+00]\n",
      " [ 1.0000e+00  1.0000e+00  3.5459e+00]\n",
      " [ 1.0000e+00  1.0000e+00  7.8306e+00]\n",
      " [ 1.0000e+00  1.0000e+00 -9.5218e-01]\n",
      " [ 1.0000e+00  1.0000e+00  1.1032e+01]\n",
      " [ 1.0000e+00  1.0000e+00 -3.4934e+00]\n",
      " [ 1.0000e+00  1.0000e+00  4.2312e+00]\n",
      " [ 1.0000e+00  1.0000e+00  1.0359e+01]\n",
      " [ 1.0000e+00  1.0000e+00  9.6425e+00]\n",
      " [ 1.0000e+00  1.0000e+00  5.7352e+00]\n",
      " [ 1.0000e+00  1.0000e+00 -5.3982e-01]\n",
      " [ 1.0000e+00  1.0000e+00  1.4433e+00]\n",
      " [ 1.0000e+00  1.0000e+00  7.3450e-01]\n",
      " [ 1.0000e+00  1.0000e+00  3.4811e-01]\n",
      " [ 1.0000e+00  1.0000e+00  1.1101e+01]\n",
      " [ 1.0000e+00  1.0000e+00  4.0979e+00]\n",
      " [ 1.0000e+00  1.0000e+00  6.9332e+00]\n",
      " [ 1.0000e+00  1.0000e+00  9.8756e+00]]\n"
     ]
    }
   ],
   "source": [
    "print(X)"
   ]
  },
  {
   "cell_type": "code",
   "execution_count": 57,
   "metadata": {},
   "outputs": [
    {
     "name": "stdout",
     "output_type": "stream",
     "text": [
      "     1.1718\n",
      "0   1.88240\n",
      "1   0.34283\n",
      "2   2.10570\n",
      "3   1.64770\n",
      "4   2.36240\n",
      "5   2.12120\n",
      "6  -0.79712\n",
      "7   2.03110\n",
      "8   1.97950\n",
      "9   1.47100\n",
      "10  2.46110\n",
      "11  1.98190\n",
      "12  1.12030\n",
      "13 -1.37010\n",
      "14  1.02870\n",
      "15  1.38080\n",
      "16  1.21780\n",
      "17  1.40840\n",
      "18 -1.52090\n",
      "19  2.38810\n",
      "20  1.36820\n",
      "21 -0.99120\n",
      "22  2.04570\n",
      "23 -0.71916\n",
      "24  1.41290\n",
      "25  0.14790\n",
      "26  0.40248\n",
      "27  0.39213\n",
      "28  1.39490\n",
      "29  2.15080\n",
      "..      ...\n",
      "69  1.17180\n",
      "70  0.42414\n",
      "71  2.26440\n",
      "72 -1.41930\n",
      "73 -1.50120\n",
      "74  2.12000\n",
      "75  1.45170\n",
      "76 -1.59900\n",
      "77  2.12150\n",
      "78  1.70800\n",
      "79  1.74720\n",
      "80  0.90303\n",
      "81  2.09580\n",
      "82  1.97440\n",
      "83  1.15790\n",
      "84 -0.45044\n",
      "85  1.76510\n",
      "86 -1.28290\n",
      "87  2.08590\n",
      "88  1.32430\n",
      "89  1.05010\n",
      "90  2.01260\n",
      "91 -0.13283\n",
      "92  1.43200\n",
      "93  0.85151\n",
      "94  0.64654\n",
      "95  1.78390\n",
      "96  2.32890\n",
      "97  1.31580\n",
      "98  1.12140\n",
      "\n",
      "[99 rows x 1 columns]\n"
     ]
    }
   ],
   "source": [
    "print(y)"
   ]
  },
  {
   "cell_type": "code",
   "execution_count": 82,
   "metadata": {},
   "outputs": [],
   "source": [
    "def getWMatrix(X,X_Test,tau):\n",
    "    m=X.shape[0]\n",
    "    W=np.zeros((m,m))\n",
    "    for i in range(m):\n",
    "        val=(-np.exp(np.dot((X[i]-X_Test).T,(X[i]-X_Test))/(2*tau*tau))).shape\n",
    "        W[i,i]=val\n",
    "    return W"
   ]
  },
  {
   "cell_type": "code",
   "execution_count": 83,
   "metadata": {},
   "outputs": [
    {
     "ename": "ValueError",
     "evalue": "setting an array element with a sequence.",
     "output_type": "error",
     "traceback": [
      "\u001b[1;31m---------------------------------------------------------------------------\u001b[0m",
      "\u001b[1;31mValueError\u001b[0m                                Traceback (most recent call last)",
      "\u001b[1;32m<ipython-input-83-a86e9a2ae924>\u001b[0m in \u001b[0;36m<module>\u001b[1;34m\u001b[0m\n\u001b[1;32m----> 1\u001b[1;33m \u001b[0mW\u001b[0m\u001b[1;33m=\u001b[0m\u001b[0mgetWMatrix\u001b[0m\u001b[1;33m(\u001b[0m\u001b[0mX\u001b[0m\u001b[1;33m,\u001b[0m\u001b[1;33m-\u001b[0m\u001b[1;36m3\u001b[0m\u001b[1;33m,\u001b[0m\u001b[1;36m10\u001b[0m\u001b[1;33m)\u001b[0m\u001b[1;33m\u001b[0m\u001b[1;33m\u001b[0m\u001b[0m\n\u001b[0m",
      "\u001b[1;32m<ipython-input-82-77b10cbe4195>\u001b[0m in \u001b[0;36mgetWMatrix\u001b[1;34m(X, X_Test, tau)\u001b[0m\n\u001b[0;32m      4\u001b[0m     \u001b[1;32mfor\u001b[0m \u001b[0mi\u001b[0m \u001b[1;32min\u001b[0m \u001b[0mrange\u001b[0m\u001b[1;33m(\u001b[0m\u001b[0mm\u001b[0m\u001b[1;33m)\u001b[0m\u001b[1;33m:\u001b[0m\u001b[1;33m\u001b[0m\u001b[1;33m\u001b[0m\u001b[0m\n\u001b[0;32m      5\u001b[0m         \u001b[0mval\u001b[0m\u001b[1;33m=\u001b[0m\u001b[1;33m(\u001b[0m\u001b[1;33m-\u001b[0m\u001b[0mnp\u001b[0m\u001b[1;33m.\u001b[0m\u001b[0mexp\u001b[0m\u001b[1;33m(\u001b[0m\u001b[0mnp\u001b[0m\u001b[1;33m.\u001b[0m\u001b[0mdot\u001b[0m\u001b[1;33m(\u001b[0m\u001b[1;33m(\u001b[0m\u001b[0mX\u001b[0m\u001b[1;33m[\u001b[0m\u001b[0mi\u001b[0m\u001b[1;33m]\u001b[0m\u001b[1;33m-\u001b[0m\u001b[0mX_Test\u001b[0m\u001b[1;33m)\u001b[0m\u001b[1;33m.\u001b[0m\u001b[0mT\u001b[0m\u001b[1;33m,\u001b[0m\u001b[1;33m(\u001b[0m\u001b[0mX\u001b[0m\u001b[1;33m[\u001b[0m\u001b[0mi\u001b[0m\u001b[1;33m]\u001b[0m\u001b[1;33m-\u001b[0m\u001b[0mX_Test\u001b[0m\u001b[1;33m)\u001b[0m\u001b[1;33m)\u001b[0m\u001b[1;33m/\u001b[0m\u001b[1;33m(\u001b[0m\u001b[1;36m2\u001b[0m\u001b[1;33m*\u001b[0m\u001b[0mtau\u001b[0m\u001b[1;33m*\u001b[0m\u001b[0mtau\u001b[0m\u001b[1;33m)\u001b[0m\u001b[1;33m)\u001b[0m\u001b[1;33m)\u001b[0m\u001b[1;33m.\u001b[0m\u001b[0mshape\u001b[0m\u001b[1;33m\u001b[0m\u001b[1;33m\u001b[0m\u001b[0m\n\u001b[1;32m----> 6\u001b[1;33m         \u001b[0mW\u001b[0m\u001b[1;33m[\u001b[0m\u001b[0mi\u001b[0m\u001b[1;33m,\u001b[0m\u001b[0mi\u001b[0m\u001b[1;33m]\u001b[0m\u001b[1;33m=\u001b[0m\u001b[0mval\u001b[0m\u001b[1;33m\u001b[0m\u001b[1;33m\u001b[0m\u001b[0m\n\u001b[0m\u001b[0;32m      7\u001b[0m     \u001b[1;32mreturn\u001b[0m \u001b[0mW\u001b[0m\u001b[1;33m\u001b[0m\u001b[1;33m\u001b[0m\u001b[0m\n",
      "\u001b[1;31mValueError\u001b[0m: setting an array element with a sequence."
     ]
    }
   ],
   "source": [
    "W=getWMatrix(X,-3,10)"
   ]
  },
  {
   "cell_type": "code",
   "execution_count": 84,
   "metadata": {},
   "outputs": [],
   "source": [
    "X=np.mat(X)\n",
    "X=np.hstack((np.ones((X.shape[0],1)),X))\n",
    "Y=np.mat(Y)\n"
   ]
  },
  {
   "cell_type": "code",
   "execution_count": 85,
   "metadata": {},
   "outputs": [
    {
     "ename": "TypeError",
     "evalue": "unsupported operand type(s) for *: 'float' and 'NoneType'",
     "output_type": "error",
     "traceback": [
      "\u001b[1;31m---------------------------------------------------------------------------\u001b[0m",
      "\u001b[1;31mTypeError\u001b[0m                                 Traceback (most recent call last)",
      "\u001b[1;32m<ipython-input-85-1081aa2b3d06>\u001b[0m in \u001b[0;36m<module>\u001b[1;34m\u001b[0m\n\u001b[1;32m----> 1\u001b[1;33m \u001b[0mtheta\u001b[0m\u001b[1;33m=\u001b[0m\u001b[0mnp\u001b[0m\u001b[1;33m.\u001b[0m\u001b[0mdot\u001b[0m\u001b[1;33m(\u001b[0m\u001b[1;33m(\u001b[0m\u001b[0mnp\u001b[0m\u001b[1;33m.\u001b[0m\u001b[0mlinalg\u001b[0m\u001b[1;33m.\u001b[0m\u001b[0mpinv\u001b[0m\u001b[1;33m(\u001b[0m\u001b[1;33m(\u001b[0m\u001b[0mX\u001b[0m\u001b[1;33m.\u001b[0m\u001b[0mT\u001b[0m\u001b[1;33m*\u001b[0m\u001b[0mW\u001b[0m\u001b[1;33m*\u001b[0m\u001b[0mX\u001b[0m\u001b[1;33m)\u001b[0m\u001b[1;33m)\u001b[0m\u001b[1;33m)\u001b[0m\u001b[1;33m,\u001b[0m\u001b[0mX\u001b[0m\u001b[1;33m.\u001b[0m\u001b[0mT\u001b[0m\u001b[1;33m*\u001b[0m\u001b[0mW\u001b[0m\u001b[1;33m*\u001b[0m\u001b[0mY\u001b[0m\u001b[1;33m)\u001b[0m\u001b[1;33m\u001b[0m\u001b[1;33m\u001b[0m\u001b[0m\n\u001b[0m",
      "\u001b[1;32m~\\Anaconda3\\lib\\site-packages\\numpy\\matrixlib\\defmatrix.py\u001b[0m in \u001b[0;36m__mul__\u001b[1;34m(self, other)\u001b[0m\n\u001b[0;32m    215\u001b[0m             \u001b[1;32mreturn\u001b[0m \u001b[0mN\u001b[0m\u001b[1;33m.\u001b[0m\u001b[0mdot\u001b[0m\u001b[1;33m(\u001b[0m\u001b[0mself\u001b[0m\u001b[1;33m,\u001b[0m \u001b[0masmatrix\u001b[0m\u001b[1;33m(\u001b[0m\u001b[0mother\u001b[0m\u001b[1;33m)\u001b[0m\u001b[1;33m)\u001b[0m\u001b[1;33m\u001b[0m\u001b[1;33m\u001b[0m\u001b[0m\n\u001b[0;32m    216\u001b[0m         \u001b[1;32mif\u001b[0m \u001b[0misscalar\u001b[0m\u001b[1;33m(\u001b[0m\u001b[0mother\u001b[0m\u001b[1;33m)\u001b[0m \u001b[1;32mor\u001b[0m \u001b[1;32mnot\u001b[0m \u001b[0mhasattr\u001b[0m\u001b[1;33m(\u001b[0m\u001b[0mother\u001b[0m\u001b[1;33m,\u001b[0m \u001b[1;34m'__rmul__'\u001b[0m\u001b[1;33m)\u001b[0m \u001b[1;33m:\u001b[0m\u001b[1;33m\u001b[0m\u001b[1;33m\u001b[0m\u001b[0m\n\u001b[1;32m--> 217\u001b[1;33m             \u001b[1;32mreturn\u001b[0m \u001b[0mN\u001b[0m\u001b[1;33m.\u001b[0m\u001b[0mdot\u001b[0m\u001b[1;33m(\u001b[0m\u001b[0mself\u001b[0m\u001b[1;33m,\u001b[0m \u001b[0mother\u001b[0m\u001b[1;33m)\u001b[0m\u001b[1;33m\u001b[0m\u001b[1;33m\u001b[0m\u001b[0m\n\u001b[0m\u001b[0;32m    218\u001b[0m         \u001b[1;32mreturn\u001b[0m \u001b[0mNotImplemented\u001b[0m\u001b[1;33m\u001b[0m\u001b[1;33m\u001b[0m\u001b[0m\n\u001b[0;32m    219\u001b[0m \u001b[1;33m\u001b[0m\u001b[0m\n",
      "\u001b[1;31mTypeError\u001b[0m: unsupported operand type(s) for *: 'float' and 'NoneType'"
     ]
    }
   ],
   "source": [
    "theta=np.dot((np.linalg.pinv((X.T*W*X))),X.T*W*Y)"
   ]
  },
  {
   "cell_type": "code",
   "execution_count": null,
   "metadata": {},
   "outputs": [],
   "source": []
  },
  {
   "cell_type": "code",
   "execution_count": null,
   "metadata": {},
   "outputs": [],
   "source": []
  }
 ],
 "metadata": {
  "kernelspec": {
   "display_name": "Python 3",
   "language": "python",
   "name": "python3"
  },
  "language_info": {
   "codemirror_mode": {
    "name": "ipython",
    "version": 3
   },
   "file_extension": ".py",
   "mimetype": "text/x-python",
   "name": "python",
   "nbconvert_exporter": "python",
   "pygments_lexer": "ipython3",
   "version": "3.7.1"
  }
 },
 "nbformat": 4,
 "nbformat_minor": 2
}
