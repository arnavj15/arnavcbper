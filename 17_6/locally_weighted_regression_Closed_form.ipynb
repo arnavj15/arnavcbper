{
 "cells": [
  {
   "cell_type": "code",
   "execution_count": 1,
   "metadata": {},
   "outputs": [],
   "source": [
    "import numpy as np"
   ]
  },
  {
   "cell_type": "code",
   "execution_count": 2,
   "metadata": {},
   "outputs": [],
   "source": [
    "def getDataset(shape):\n",
    "    u=25\n",
    "    sigma=5\n",
    "    X=np.random.randn(shape[0])*sigma+ u\n",
    "    e=np.random.randn(shape[0])\n",
    "    Y=2*X +5 + 0.3*e\n",
    "    \n",
    "    return X,Y"
   ]
  },
  {
   "cell_type": "code",
   "execution_count": 3,
   "metadata": {},
   "outputs": [],
   "source": [
    "X,Y=getDataset((100,))"
   ]
  },
  {
   "cell_type": "code",
   "execution_count": 4,
   "metadata": {},
   "outputs": [
    {
     "name": "stdout",
     "output_type": "stream",
     "text": [
      "[32.28107884 25.96159832 22.94905962 30.92902058 25.14327645 23.88975487\n",
      " 30.21522908 22.40349399 18.4504982  22.69965154 22.65734779 29.74983547\n",
      " 18.27196733 27.5061065  27.00007571 37.6740598  26.61323534 29.44089717\n",
      " 29.4775031  13.84155619 16.93347181 29.98787261 29.32503086 27.46416301\n",
      " 25.45998947 29.80788158 26.02680287 24.01906286 30.77794735 22.06489866\n",
      " 28.66190133 33.73585652 19.53220931 29.78128927 21.80328108 23.52508863\n",
      " 31.4495056  26.64355653 32.65474473 29.78926156 30.44405911 26.36111062\n",
      " 23.8914155  28.57895666 19.13928589 36.42018459 21.21662917 30.15535441\n",
      " 20.23894993 35.54986367 33.55136824 23.03740496 22.75140023 25.4401198\n",
      " 20.44922719 22.21929186 24.43371787 21.25793972 24.91242248 25.39330513\n",
      " 16.25929427 22.16813613 26.89380189 34.7108312  21.86950303 25.20080864\n",
      " 29.95487402 28.19356069 19.08930968 32.81996175 20.09813342 18.35003782\n",
      " 23.73909966 25.64965545 21.13978785 27.57822577 23.32664623 29.36902673\n",
      " 29.29976613 19.75112395 22.33081412 14.75963326 33.69475336 27.11923917\n",
      " 17.58527429 19.77852045 26.31784441 30.24321792 28.34207667 24.15955999\n",
      " 23.78651921 18.24868907 30.00584589 30.69330119 27.73179385 20.84253292\n",
      " 23.17487803 16.88199721 16.08119535 30.23746425]\n",
      "[69.89582916 56.33613549 50.83244115 66.75597426 55.04738715 52.66905266\n",
      " 65.10344495 50.19318723 41.97802305 50.50773816 49.60688117 64.60975235\n",
      " 42.30370613 60.28677244 58.42698353 80.7126333  58.30194128 63.95961516\n",
      " 63.46748539 32.21901128 38.75854551 64.45967889 63.35577209 59.98439345\n",
      " 55.59226268 64.49167079 57.63440797 53.12413827 66.75521294 49.32419132\n",
      " 62.08737599 72.56089598 43.89632098 64.79689668 49.40254754 52.3374529\n",
      " 67.69815214 58.28581377 70.09520708 64.6502849  65.53279543 57.48229086\n",
      " 52.64350255 62.38279293 42.98663763 77.80091904 48.05766425 64.89392093\n",
      " 45.1548272  76.03532628 72.0768346  51.66454692 50.50679834 55.28194292\n",
      " 45.69876567 49.48360322 53.73608485 47.49782512 54.88623883 55.97103579\n",
      " 37.36242638 49.3621815  58.47915678 74.139279   48.60288338 55.02331602\n",
      " 64.58380179 61.31737371 43.18732764 70.46042425 44.94928259 42.36473135\n",
      " 52.4559811  56.52587041 47.09853281 60.1123517  51.0367059  64.38372304\n",
      " 63.67771028 44.1209447  49.96943307 34.45290623 72.53074305 59.05621859\n",
      " 40.36387856 44.91396675 57.67882905 65.17035716 62.04388974 53.77961052\n",
      " 52.54571951 42.00553161 64.78637099 66.82844007 60.00936297 46.87694263\n",
      " 51.84841729 39.33424542 36.80769393 65.7957018 ]\n"
     ]
    }
   ],
   "source": [
    "print(X)\n",
    "print(Y)"
   ]
  },
  {
   "cell_type": "code",
   "execution_count": 5,
   "metadata": {},
   "outputs": [
    {
     "data": {
      "text/plain": [
       "<Figure size 640x480 with 1 Axes>"
      ]
     },
     "metadata": {},
     "output_type": "display_data"
    }
   ],
   "source": [
    "import matplotlib.pyplot as plt\n",
    "plt.scatter(X,Y)\n",
    "plt.show()"
   ]
  },
  {
   "cell_type": "code",
   "execution_count": 6,
   "metadata": {},
   "outputs": [
    {
     "name": "stdout",
     "output_type": "stream",
     "text": [
      "25.49517803517592\n",
      "5.138079090756218\n"
     ]
    }
   ],
   "source": [
    "u=np.mean(X)\n",
    "sigma=np.std(X)\n",
    "print(u)\n",
    "print(sigma)"
   ]
  },
  {
   "cell_type": "code",
   "execution_count": 7,
   "metadata": {},
   "outputs": [],
   "source": [
    "X_New=(X-u)/sigma"
   ]
  },
  {
   "cell_type": "code",
   "execution_count": 8,
   "metadata": {},
   "outputs": [
    {
     "data": {
      "image/png": "[encoded data removed]",
      "text/plain": [
       "<Figure size 432x288 with 1 Axes>"
      ]
     },
     "metadata": {
      "needs_background": "light"
     },
     "output_type": "display_data"
    }
   ],
   "source": [
    "plt.scatter(X_New,Y)\n",
    "plt.scatter(X,Y)\n",
    "plt.show()"
   ]
  },
  {
   "cell_type": "code",
   "execution_count": 9,
   "metadata": {},
   "outputs": [],
   "source": [
    "#Numpy Matrix\n"
   ]
  },
  {
   "cell_type": "code",
   "execution_count": 10,
   "metadata": {},
   "outputs": [
    {
     "name": "stdout",
     "output_type": "stream",
     "text": [
      "[[-0.8687955   0.10613851  1.82735599]\n",
      " [ 0.03785533  0.43370737  1.0498649 ]\n",
      " [-2.07400559  1.41933165 -0.34833625]\n",
      " [ 0.06830849  0.04400816 -0.99373045]\n",
      " [ 0.26685743  1.02181286  1.42649483]]\n"
     ]
    }
   ],
   "source": [
    "m=np.random.randn(5,3)\n",
    "print(m)"
   ]
  },
  {
   "cell_type": "code",
   "execution_count": 11,
   "metadata": {},
   "outputs": [
    {
     "data": {
      "text/plain": [
       "array([[-0.8687955 ,  0.03785533, -2.07400559,  0.06830849,  0.26685743],\n",
       "       [ 0.10613851,  0.43370737,  1.41933165,  0.04400816,  1.02181286],\n",
       "       [ 1.82735599,  1.0498649 , -0.34833625, -0.99373045,  1.42649483]])"
      ]
     },
     "execution_count": 11,
     "metadata": {},
     "output_type": "execute_result"
    }
   ],
   "source": [
    "m.T #Transpose"
   ]
  },
  {
   "cell_type": "code",
   "execution_count": 12,
   "metadata": {},
   "outputs": [
    {
     "data": {
      "text/plain": [
       "array([[-0.36264466,  0.11119735, -0.27757284,  0.08259687,  0.37247176],\n",
       "       [-0.41846142,  0.17370052,  0.25862901,  0.15922708,  0.58229061],\n",
       "       [ 0.30294965,  0.11000036, -0.11817148, -0.15835888,  0.09280664]])"
      ]
     },
     "execution_count": 12,
     "metadata": {},
     "output_type": "execute_result"
    }
   ],
   "source": [
    "np.linalg.pinv(m) #INVERSE"
   ]
  },
  {
   "cell_type": "code",
   "execution_count": 25,
   "metadata": {},
   "outputs": [],
   "source": [
    "#np.dot(a,b) #DOT PRODUCT"
   ]
  },
  {
   "cell_type": "code",
   "execution_count": 40,
   "metadata": {},
   "outputs": [],
   "source": [
    "X = np.random.randn(100,1)"
   ]
  },
  {
   "cell_type": "code",
   "execution_count": 41,
   "metadata": {},
   "outputs": [],
   "source": [
    "e = np.random.randn(100,1)\n",
    "Y = 2*X + 5 + 0.3*e"
   ]
  },
  {
   "cell_type": "code",
   "execution_count": 37,
   "metadata": {},
   "outputs": [],
   "source": [
    "X=X.reshape((-1,1))\n",
    "ones=np.ones((X.shape[0],1))\n",
    "X=np.hstack((ones,X))\n"
   ]
  },
  {
   "cell_type": "code",
   "execution_count": 38,
   "metadata": {},
   "outputs": [],
   "source": [
    "theta=np.dot(np.linalg.pinv(np.dot(X.T,X)),(np.dot(X.T,Y)))"
   ]
  },
  {
   "cell_type": "code",
   "execution_count": 39,
   "metadata": {},
   "outputs": [
    {
     "name": "stdout",
     "output_type": "stream",
     "text": [
      "[5.0203281  2.00509073]\n"
     ]
    }
   ],
   "source": [
    "print(theta)"
   ]
  },
  {
   "cell_type": "markdown",
   "metadata": {},
   "source": [
    "# Library for ML Algorithms"
   ]
  },
  {
   "cell_type": "code",
   "execution_count": 26,
   "metadata": {},
   "outputs": [
    {
     "name": "stdout",
     "output_type": "stream",
     "text": [
      "Collecting sklearn\n",
      "  Downloading https://files.pythonhosted.org/packages/1e/7a/dbb3be0ce9bd5c8b7e3d87328e79063f8b263b2b1bfa4774cb1147bfcd3f/sklearn-0.0.tar.gz\n",
      "Requirement already satisfied: scikit-learn in c:\\users\\arnav\\anaconda3\\lib\\site-packages (from sklearn) (0.20.1)\n",
      "Requirement already satisfied: numpy>=1.8.2 in c:\\users\\arnav\\anaconda3\\lib\\site-packages (from scikit-learn->sklearn) (1.15.4)\n",
      "Requirement already satisfied: scipy>=0.13.3 in c:\\users\\arnav\\anaconda3\\lib\\site-packages (from scikit-learn->sklearn) (1.1.0)\n",
      "Building wheels for collected packages: sklearn\n",
      "  Running setup.py bdist_wheel for sklearn: started\n",
      "  Running setup.py bdist_wheel for sklearn: finished with status 'done'\n",
      "  Stored in directory: C:\\Users\\arnav\\AppData\\Local\\pip\\Cache\\wheels\\76\\03\\bb\\589d421d27431bcd2c6da284d5f2286c8e3b2ea3cf1594c074\n",
      "Successfully built sklearn\n",
      "Installing collected packages: sklearn\n",
      "Successfully installed sklearn-0.0\n"
     ]
    }
   ],
   "source": [
    "!pip install sklearn"
   ]
  },
  {
   "cell_type": "code",
   "execution_count": 30,
   "metadata": {},
   "outputs": [],
   "source": [
    "from sklearn.linear_model import LinearRegression as lr"
   ]
  },
  {
   "cell_type": "code",
   "execution_count": 33,
   "metadata": {},
   "outputs": [],
   "source": [
    "lr=LinearRegression()"
   ]
  },
  {
   "cell_type": "code",
   "execution_count": 42,
   "metadata": {},
   "outputs": [
    {
     "data": {
      "text/plain": [
       "LinearRegression(copy_X=True, fit_intercept=True, n_jobs=None,\n",
       "         normalize=False)"
      ]
     },
     "execution_count": 42,
     "metadata": {},
     "output_type": "execute_result"
    }
   ],
   "source": [
    "lr.fit(X,Y)"
   ]
  },
  {
   "cell_type": "code",
   "execution_count": 43,
   "metadata": {},
   "outputs": [
    {
     "data": {
      "text/plain": [
       "array([[2.00080334]])"
      ]
     },
     "execution_count": 43,
     "metadata": {},
     "output_type": "execute_result"
    }
   ],
   "source": [
    "lr.coef_"
   ]
  },
  {
   "cell_type": "code",
   "execution_count": 44,
   "metadata": {},
   "outputs": [
    {
     "data": {
      "text/plain": [
       "array([5.02898457])"
      ]
     },
     "execution_count": 44,
     "metadata": {},
     "output_type": "execute_result"
    }
   ],
   "source": [
    "lr.intercept_"
   ]
  },
  {
   "cell_type": "code",
   "execution_count": 45,
   "metadata": {},
   "outputs": [
    {
     "data": {
      "text/plain": [
       "array([[3.50160247],\n",
       "       [7.12751548],\n",
       "       [6.7128774 ],\n",
       "       [5.44321125],\n",
       "       [5.27431948],\n",
       "       [3.95751418],\n",
       "       [4.20696078],\n",
       "       [3.99746956],\n",
       "       [8.28215421],\n",
       "       [1.55699239],\n",
       "       [5.44459447],\n",
       "       [4.28429622],\n",
       "       [3.37880318],\n",
       "       [4.83095532],\n",
       "       [3.46170149],\n",
       "       [5.03165549],\n",
       "       [8.32267899],\n",
       "       [7.29897511],\n",
       "       [1.89669851],\n",
       "       [7.59058437],\n",
       "       [4.62028186],\n",
       "       [5.58283282],\n",
       "       [1.68215044],\n",
       "       [2.73362612],\n",
       "       [2.14491953],\n",
       "       [5.22059204],\n",
       "       [8.99375551],\n",
       "       [7.56324583],\n",
       "       [5.49491585],\n",
       "       [2.94953976],\n",
       "       [3.00255726],\n",
       "       [4.31279652],\n",
       "       [5.69931938],\n",
       "       [5.18001528],\n",
       "       [0.77685845],\n",
       "       [0.41298463],\n",
       "       [5.93330844],\n",
       "       [7.51236714],\n",
       "       [3.29963496],\n",
       "       [4.03766962],\n",
       "       [1.14045079],\n",
       "       [2.63050122],\n",
       "       [3.70767764],\n",
       "       [6.10185112],\n",
       "       [3.67784222],\n",
       "       [3.322111  ],\n",
       "       [3.44616465],\n",
       "       [5.83881247],\n",
       "       [4.57802579],\n",
       "       [6.10888964],\n",
       "       [6.88052338],\n",
       "       [4.37947322],\n",
       "       [8.13799449],\n",
       "       [5.25086342],\n",
       "       [7.53684198],\n",
       "       [5.35212893],\n",
       "       [6.17097574],\n",
       "       [7.92191094],\n",
       "       [4.13935114],\n",
       "       [3.97348965],\n",
       "       [8.38517409],\n",
       "       [6.78865847],\n",
       "       [5.98783221],\n",
       "       [7.35865841],\n",
       "       [8.15654294],\n",
       "       [5.46183809],\n",
       "       [2.48834779],\n",
       "       [4.3095598 ],\n",
       "       [3.18899203],\n",
       "       [5.96019204],\n",
       "       [7.43052204],\n",
       "       [5.31280029],\n",
       "       [5.72483312],\n",
       "       [6.44689735],\n",
       "       [5.10655692],\n",
       "       [3.39914992],\n",
       "       [5.08851841],\n",
       "       [5.40881509],\n",
       "       [8.15361884],\n",
       "       [5.76447479],\n",
       "       [5.94591778],\n",
       "       [2.48710861],\n",
       "       [5.16173334],\n",
       "       [4.68162886],\n",
       "       [3.85033225],\n",
       "       [9.30464915],\n",
       "       [5.38554911],\n",
       "       [3.87131878],\n",
       "       [8.19597942],\n",
       "       [1.49096636],\n",
       "       [3.24823047],\n",
       "       [8.59434441],\n",
       "       [4.19005542],\n",
       "       [6.39726589],\n",
       "       [5.43217704],\n",
       "       [5.05611767],\n",
       "       [8.46822657],\n",
       "       [3.467869  ],\n",
       "       [4.86918701],\n",
       "       [6.34418435]])"
      ]
     },
     "execution_count": 45,
     "metadata": {},
     "output_type": "execute_result"
    }
   ],
   "source": [
    "lr.predict(X)"
   ]
  },
  {
   "cell_type": "code",
   "execution_count": 46,
   "metadata": {},
   "outputs": [
    {
     "data": {
      "text/plain": [
       "0.9803672783983599"
      ]
     },
     "execution_count": 46,
     "metadata": {},
     "output_type": "execute_result"
    }
   ],
   "source": [
    "lr.score(X,Y)"
   ]
  },
  {
   "cell_type": "code",
   "execution_count": null,
   "metadata": {},
   "outputs": [],
   "source": []
  }
 ],
 "metadata": {
  "kernelspec": {
   "display_name": "Python 3",
   "language": "python",
   "name": "python3"
  },
  "language_info": {
   "codemirror_mode": {
    "name": "ipython",
    "version": 3
   },
   "file_extension": ".py",
   "mimetype": "text/x-python",
   "name": "python",
   "nbconvert_exporter": "python",
   "pygments_lexer": "ipython3",
   "version": "3.7.1"
  }
 },
 "nbformat": 4,
 "nbformat_minor": 2
}
