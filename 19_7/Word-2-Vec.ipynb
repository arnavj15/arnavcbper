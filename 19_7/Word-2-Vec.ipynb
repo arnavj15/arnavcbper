{
 "cells": [
  {
   "cell_type": "code",
   "execution_count": 1,
   "metadata": {},
   "outputs": [],
   "source": [
    "from gensim.models import word2vec , KeyedVectors\n",
    "from sklearn.metrics.pairwise import cosine_similarity"
   ]
  },
  {
   "cell_type": "code",
   "execution_count": 308,
   "metadata": {},
   "outputs": [],
   "source": [
    "import numpy as np"
   ]
  },
  {
   "cell_type": "code",
   "execution_count": 11,
   "metadata": {},
   "outputs": [],
   "source": [
    "word_vectors=KeyedVectors.load_word2vec_format('GoogleNews-vectors-negative300.bin',binary=True,limit=800000)"
   ]
  },
  {
   "cell_type": "code",
   "execution_count": 528,
   "metadata": {},
   "outputs": [
    {
     "name": "stdout",
     "output_type": "stream",
     "text": [
      "(300,) (300,)\n"
     ]
    }
   ],
   "source": [
    "v1=word_vectors['hillary']\n",
    "v2=word_vectors['Afghanistan']\n",
    "v3=word_vectors['emails']\n",
    "input1=np.array((v1,v2,v3))\n",
    "print(v1.shape,v2.shape)"
   ]
  },
  {
   "cell_type": "code",
   "execution_count": 529,
   "metadata": {},
   "outputs": [
    {
     "data": {
      "text/plain": [
       "array([[0.16627127]], dtype=float32)"
      ]
     },
     "execution_count": 529,
     "metadata": {},
     "output_type": "execute_result"
    }
   ],
   "source": [
    "cosine_similarity([v1],[v3])"
   ]
  },
  {
   "cell_type": "code",
   "execution_count": 331,
   "metadata": {},
   "outputs": [],
   "source": [
    "def odd_one_out(words):\n",
    "    all_word_vectors=[word_vectors[word] for word in words]\n",
    "    avg_vector=np.mean(all_word_vectors,axis=0)\n",
    "    print(avg_vector.shape)\n",
    "    oddone=None\n",
    "    min_sim=1.0\n",
    "    for word in words:\n",
    "        word_vec=word_vectors[word]\n",
    "        sim=cosine_similarity([word_vec],[avg_vector])\n",
    "        print('Similarity between %s and average vector is %.2f'%(word,sim))\n",
    "        if sim<min_sim:\n",
    "            oddone=word\n",
    "            min_sim=sim\n",
    "    return oddone"
   ]
  },
  {
   "cell_type": "code",
   "execution_count": 544,
   "metadata": {},
   "outputs": [],
   "source": [
    "words=['e.coli','disease','sewage']"
   ]
  },
  {
   "cell_type": "code",
   "execution_count": 545,
   "metadata": {},
   "outputs": [
    {
     "name": "stdout",
     "output_type": "stream",
     "text": [
      "(300,)\n",
      "Similarity between e.coli and average vector is 0.74\n",
      "Similarity between disease and average vector is 0.69\n",
      "Similarity between sewage and average vector is 0.74\n",
      "disease\n"
     ]
    }
   ],
   "source": [
    "print(odd_one_out(words))"
   ]
  },
  {
   "cell_type": "code",
   "execution_count": null,
   "metadata": {},
   "outputs": [],
   "source": []
  }
 ],
 "metadata": {
  "kernelspec": {
   "display_name": "Python 3",
   "language": "python",
   "name": "python3"
  },
  "language_info": {
   "codemirror_mode": {
    "name": "ipython",
    "version": 3
   },
   "file_extension": ".py",
   "mimetype": "text/x-python",
   "name": "python",
   "nbconvert_exporter": "python",
   "pygments_lexer": "ipython3",
   "version": "3.7.3"
  }
 },
 "nbformat": 4,
 "nbformat_minor": 2
}
