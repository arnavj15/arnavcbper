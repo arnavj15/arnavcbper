{
 "cells": [
  {
   "cell_type": "code",
   "execution_count": 3,
   "metadata": {},
   "outputs": [],
   "source": [
    "import matplotlib.pyplot as plt\n",
    "import pandas as pd\n",
    "import numpy as np\n",
    "\n",
    "\n"
   ]
  },
  {
   "cell_type": "markdown",
   "metadata": {},
   "source": [
    "### Data (X) - Acidity of Milk  Data(Y) - Density of Milk"
   ]
  },
  {
   "cell_type": "code",
   "execution_count": 5,
   "metadata": {},
   "outputs": [],
   "source": [
    "def readData(filename):\n",
    "    df = pd.read_csv(filename)\n",
    "    return df.values\n",
    "\n",
    "x = readData('./Training Data/Linear_X_Train.csv')\n",
    "y = readData('./Training Data/Linear_Y_Train.csv') \n",
    "#x = x.reshape((99,))\n",
    "#y = y.reshape((99,))"
   ]
  },
  {
   "cell_type": "code",
   "execution_count": 6,
   "metadata": {},
   "outputs": [
    {
     "name": "stdout",
     "output_type": "stream",
     "text": [
      "[[-0.28930742]\n",
      " [-0.58880963]\n",
      " [ 1.02750749]\n",
      " ...\n",
      " [-0.30516366]\n",
      " [ 1.67583291]\n",
      " [-0.49175724]]\n",
      "[[-9.11011171e-02]\n",
      " [-5.34677208e+01]\n",
      " [ 7.54570088e+01]\n",
      " ...\n",
      " [-3.49832749e+01]\n",
      " [ 1.45206092e+02]\n",
      " [-1.71244939e+01]]\n"
     ]
    }
   ],
   "source": [
    "print(x)\n",
    "print(y)"
   ]
  },
  {
   "cell_type": "code",
   "execution_count": 7,
   "metadata": {},
   "outputs": [
    {
     "data": {
      "image/png": "[encoded data removed]",
      "text/plain": [
       "<Figure size 432x288 with 1 Axes>"
      ]
     },
     "metadata": {
      "needs_background": "light"
     },
     "output_type": "display_data"
    }
   ],
   "source": [
    "### Plot the Data\n",
    "plt.scatter(x,y)\n",
    "plt.show()"
   ]
  },
  {
   "cell_type": "code",
   "execution_count": 8,
   "metadata": {},
   "outputs": [
    {
     "data": {
      "image/png": "[encoded data removed]",
      "text/plain": [
       "<Figure size 432x288 with 1 Axes>"
      ]
     },
     "metadata": {
      "needs_background": "light"
     },
     "output_type": "display_data"
    }
   ],
   "source": [
    "#Normalisation (Optional Skip)\n",
    "x = x - x.mean()/(x.std())\n",
    "plt.scatter(x,y)\n",
    "plt.show()\n",
    "\n",
    "X = x\n",
    "Y = y"
   ]
  },
  {
   "cell_type": "markdown",
   "metadata": {},
   "source": [
    "### Algorithm - Linear Regression !"
   ]
  },
  {
   "cell_type": "code",
   "execution_count": 12,
   "metadata": {},
   "outputs": [
    {
     "name": "stdout",
     "output_type": "stream",
     "text": [
      "[12330656.34836617]\n",
      "[1.54381783e+10]\n",
      "[1.99059692e+13]\n",
      "[2.56673501e+16]\n",
      "[3.30962765e+19]\n",
      "[4.26754039e+22]\n",
      "[5.50270913e+25]\n",
      "[7.09538396e+28]\n",
      "[9.14904341e+31]\n",
      "[1.17971182e+35]\n",
      "[1.52116613e+38]\n",
      "[1.96145274e+41]\n",
      "[2.52917892e+44]\n",
      "[3.26123264e+47]\n",
      "[4.20517955e+50]\n",
      "[5.42235394e+53]\n",
      "[6.9918444e+56]\n",
      "[9.01563331e+59]\n",
      "[1.16252242e+63]\n",
      "[1.49901876e+66]\n",
      "[1.93291809e+69]\n",
      "[2.49241588e+72]\n",
      "[3.21386971e+75]\n",
      "[4.1441622e+78]\n",
      "[5.34374797e+81]\n",
      "[6.89058285e+84]\n",
      "[8.88519054e+87]\n",
      "[1.14571963e+91]\n",
      "[1.47737522e+94]\n",
      "[1.90504019e+97]\n",
      "[2.45650913e+100]\n",
      "[3.1676235e+103]\n",
      "[4.08460154e+106]\n",
      "[5.26704267e+109]\n",
      "[6.79180186e+112]\n",
      "[8.75798595e+115]\n",
      "[1.12933966e+119]\n",
      "[1.45628393e+122]\n",
      "[1.87788376e+125]\n",
      "[2.42154515e+128]\n",
      "[3.12260959e+131]\n",
      "[4.02665205e+134]\n",
      "[5.19244441e+137]\n",
      "[6.69577714e+140]\n",
      "[8.63438786e+143]\n",
      "[1.11343173e+147]\n",
      "[1.4358106e+150]\n",
      "[1.85153656e+153]\n",
      "[2.38764115e+156]\n",
      "[3.07898448e+159]\n",
      "[3.97052266e+162]\n",
      "[5.12023214e+165]\n",
      "[6.60288109e+168]\n",
      "[8.51489337e+171]\n",
      "[1.09806217e+175]\n",
      "[1.41604379e+178]\n",
      "[1.82611678e+181]\n",
      "[2.35495487e+184]\n",
      "[3.03695866e+187]\n",
      "[3.91649427e+190]\n",
      "[5.05078068e+193]\n",
      "[6.5136138e+196]\n",
      "[8.40016972e+199]\n",
      "[1.08332e+203]\n",
      "[1.39710225e+206]\n",
      "[1.80178284e+209]\n",
      "[2.32369762e+212]\n",
      "[2.99681401e+215]\n",
      "[3.86494285e+218]\n",
      "[4.9845915e+221]\n",
      "[6.42864411e+224]\n",
      "[8.29110891e+227]\n",
      "[1.06932419e+231]\n",
      "[1.37914464e+234]\n",
      "[1.77874631e+237]\n",
      "[2.29415154e+240]\n",
      "[2.95892674e+243]\n",
      "[3.81637004e+246]\n",
      "[4.92233347e+249]\n",
      "[6.34886386e+252]\n",
      "[8.18890004e+255]\n",
      "[1.05623328e+259]\n",
      "[1.36238232e+262]\n",
      "[1.75728899e+265]\n",
      "[2.26669231e+268]\n",
      "[2.92379771e+271]\n",
      "[3.77144356e+274]\n",
      "[4.86489672e+277]\n",
      "[6.27545965e+280]\n",
      "[8.09512492e+283]\n",
      "[1.04425812e+287]\n",
      "[1.34709637e+290]\n",
      "[1.73778553e+293]\n",
      "[2.24181934e+296]\n",
      "[2.89209258e+299]\n",
      "[3.73105066e+302]\n",
      "[4.81346385e+305]\n",
      "[inf]\n",
      "[inf]\n"
     ]
    },
    {
     "name": "stderr",
     "output_type": "stream",
     "text": [
      "/Library/Frameworks/Python.framework/Versions/3.7/lib/python3.7/site-packages/ipykernel_launcher.py:9: RuntimeWarning: overflow encountered in add\n",
      "  if __name__ == '__main__':\n",
      "/Library/Frameworks/Python.framework/Versions/3.7/lib/python3.7/site-packages/ipykernel_launcher.py:9: RuntimeWarning: overflow encountered in square\n",
      "  if __name__ == '__main__':\n"
     ]
    },
    {
     "name": "stdout",
     "output_type": "stream",
     "text": [
      "[inf]\n",
      "-3.22092584704639e+156 -2.668508464442152e+157\n"
     ]
    }
   ],
   "source": [
    "def hypothesis(theta,x):\n",
    "    return theta[0] + theta[1]*x\n",
    "\n",
    "def error(X,Y,theta):\n",
    "    total_error = 0\n",
    "    m = X.shape[0]\n",
    "    \n",
    "    for i in range(m):\n",
    "        total_error += (Y[i] - hypothesis(theta,X[i]))**2\n",
    "    \n",
    "    return 0.5*total_error\n",
    "\n",
    "def gradient(Y,X,theta):\n",
    "    grad = np.array([0.0,0.0])\n",
    "    m = X.shape[0]\n",
    "    for i in range(m):\n",
    "        grad[0] += -1*(Y[i] - hypothesis(theta,X[i]))\n",
    "        grad[1] += -1*(Y[i] - hypothesis(theta,X[i]))*X[i]        \n",
    "    return grad\n",
    "\n",
    "def gradientDescent(X,Y,learning_rate,maxItr):\n",
    "    grad = np.array([0.0,0.0])\n",
    "    theta = np.array([0.0,0.0])\n",
    "    e = []\n",
    "    \n",
    "    for i in range(maxItr):\n",
    "        grad = gradient(Y,X,theta)\n",
    "        ce = error(X,Y,theta)\n",
    "        print(ce)\n",
    "        theta[0] = theta[0] - learning_rate*grad[0]\n",
    "        theta[1] = theta[1] - learning_rate*grad[1]\n",
    "        e.append(ce)\n",
    "        \n",
    "    return theta,e\n",
    "                \n",
    "theta,e = gradientDescent(X,Y,learning_rate=0.01,maxItr=100)\n",
    "print(theta[0],theta[1])"
   ]
  },
  {
   "cell_type": "code",
   "execution_count": 13,
   "metadata": {},
   "outputs": [
    {
     "data": {
      "image/png": "[encoded data removed]",
      "text/plain": [
       "<Figure size 432x288 with 1 Axes>"
      ]
     },
     "metadata": {
      "needs_background": "light"
     },
     "output_type": "display_data"
    }
   ],
   "source": [
    "plt.scatter(X,Y)\n",
    "plt.plot(X,hypothesis(theta,X),color='r')\n",
    "plt.show()"
   ]
  },
  {
   "cell_type": "code",
   "execution_count": 11,
   "metadata": {},
   "outputs": [
    {
     "data": {
      "image/png": "[encoded data removed]",
      "text/plain": [
       "<Figure size 432x288 with 1 Axes>"
      ]
     },
     "metadata": {
      "needs_background": "light"
     },
     "output_type": "display_data"
    }
   ],
   "source": [
    "plt.plot(e)\n",
    "plt.show()"
   ]
  },
  {
   "cell_type": "code",
   "execution_count": 51,
   "metadata": {},
   "outputs": [
    {
     "name": "stdout",
     "output_type": "stream",
     "text": [
      "0.0019146858211364333\n"
     ]
    }
   ],
   "source": [
    "print(e[49])\n"
   ]
  },
  {
   "cell_type": "code",
   "execution_count": null,
   "metadata": {},
   "outputs": [],
   "source": []
  }
 ],
 "metadata": {
  "kernelspec": {
   "display_name": "Python 3",
   "language": "python",
   "name": "python3"
  },
  "language_info": {
   "codemirror_mode": {
    "name": "ipython",
    "version": 3
   },
   "file_extension": ".py",
   "mimetype": "text/x-python",
   "name": "python",
   "nbconvert_exporter": "python",
   "pygments_lexer": "ipython3",
   "version": "3.7.3"
  }
 },
 "nbformat": 4,
 "nbformat_minor": 2
}
