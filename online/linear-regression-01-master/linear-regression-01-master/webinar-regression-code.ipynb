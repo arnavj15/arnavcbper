{
 "cells": [
  {
   "cell_type": "code",
   "execution_count": 3,
   "metadata": {},
   "outputs": [],
   "source": [
    "import matplotlib.pyplot as plt\n",
    "import pandas as pd\n",
    "import numpy as np\n",
    "\n",
    "\n"
   ]
  },
  {
   "cell_type": "markdown",
   "metadata": {},
   "source": [
    "### Data (X) - Acidity of Milk  Data(Y) - Density of Milk"
   ]
  },
  {
   "cell_type": "code",
   "execution_count": 19,
   "metadata": {},
   "outputs": [],
   "source": [
    "def readData(filename):\n",
    "    df = pd.read_csv(filename)\n",
    "    return df.values\n",
    "\n",
    "x = readData('./Training Data/Linear_X_Train.csv')\n",
    "y = readData('./Training Data/Linear_Y_Train.csv') \n",
    "z=readData('./Test Cases/Linear_X_Test.csv') \n",
    "#x = x.reshape((99,))\n",
    "#y = y.reshape((99,))"
   ]
  },
  {
   "cell_type": "code",
   "execution_count": 6,
   "metadata": {},
   "outputs": [
    {
     "name": "stdout",
     "output_type": "stream",
     "text": [
      "[[-0.28930742]\n",
      " [-0.58880963]\n",
      " [ 1.02750749]\n",
      " ...\n",
      " [-0.30516366]\n",
      " [ 1.67583291]\n",
      " [-0.49175724]]\n",
      "[[-9.11011171e-02]\n",
      " [-5.34677208e+01]\n",
      " [ 7.54570088e+01]\n",
      " ...\n",
      " [-3.49832749e+01]\n",
      " [ 1.45206092e+02]\n",
      " [-1.71244939e+01]]\n"
     ]
    }
   ],
   "source": [
    "print(x)\n",
    "print(y)"
   ]
  },
  {
   "cell_type": "code",
   "execution_count": 7,
   "metadata": {},
   "outputs": [
    {
     "data": {
      "image/png": "[encoded data removed]",
      "text/plain": [
       "<Figure size 432x288 with 1 Axes>"
      ]
     },
     "metadata": {
      "needs_background": "light"
     },
     "output_type": "display_data"
    }
   ],
   "source": [
    "### Plot the Data\n",
    "plt.scatter(x,y)\n",
    "plt.show()"
   ]
  },
  {
   "cell_type": "code",
   "execution_count": 8,
   "metadata": {},
   "outputs": [
    {
     "data": {
      "image/png": "[encoded data removed]",
      "text/plain": [
       "<Figure size 432x288 with 1 Axes>"
      ]
     },
     "metadata": {
      "needs_background": "light"
     },
     "output_type": "display_data"
    }
   ],
   "source": [
    "#Normalisation (Optional Skip)\n",
    "x = x - x.mean()/(x.std())\n",
    "plt.scatter(x,y)\n",
    "plt.show()\n",
    "\n",
    "X = x\n",
    "Y = y"
   ]
  },
  {
   "cell_type": "markdown",
   "metadata": {},
   "source": [
    "### Algorithm - Linear Regression !"
   ]
  },
  {
   "cell_type": "code",
   "execution_count": 29,
   "metadata": {},
   "outputs": [
    {
     "name": "stdout",
     "output_type": "stream",
     "text": [
      "[12330656.34836617]\n",
      "[5123771.29480782]\n",
      "[2255052.94475956]\n",
      "[1113152.23306954]\n",
      "[658615.60092247]\n",
      "[477686.03232319]\n",
      "[405666.49693667]\n",
      "[376998.90654042]\n",
      "[365587.68409002]\n",
      "[361045.41084341]\n",
      "[359237.34416426]\n",
      "[358517.63716065]\n",
      "[358231.15531023]\n",
      "[358117.12019819]\n",
      "[358071.72810936]\n",
      "[358053.65962035]\n",
      "[358046.46738991]\n",
      "[358043.60449477]\n",
      "[358042.46490806]\n",
      "[358042.01129098]\n",
      "[358041.83072684]\n",
      "[358041.75885253]\n",
      "[358041.73024265]\n",
      "[358041.71885437]\n",
      "[358041.71432121]\n",
      "[358041.71251677]\n",
      "[358041.7117985]\n",
      "[358041.71151259]\n",
      "[358041.71139878]\n",
      "[358041.71135348]\n",
      "[358041.71133545]\n",
      "[358041.71132827]\n",
      "[358041.71132542]\n",
      "[358041.71132428]\n",
      "[358041.71132383]\n",
      "[358041.71132364]\n",
      "[358041.71132357]\n",
      "[358041.71132354]\n",
      "[358041.71132353]\n",
      "[358041.71132353]\n",
      "[358041.71132353]\n",
      "[358041.71132353]\n",
      "[358041.71132353]\n",
      "[358041.71132353]\n",
      "[358041.71132353]\n",
      "[358041.71132353]\n",
      "[358041.71132353]\n",
      "[358041.71132353]\n",
      "[358041.71132353]\n",
      "[358041.71132353]\n",
      "[358041.71132353]\n",
      "[358041.71132353]\n",
      "[358041.71132353]\n",
      "[358041.71132353]\n",
      "[358041.71132353]\n",
      "[358041.71132353]\n",
      "[358041.71132352]\n",
      "[358041.71132353]\n",
      "[358041.71132353]\n",
      "[358041.71132353]\n",
      "[358041.71132353]\n",
      "[358041.71132353]\n",
      "[358041.71132353]\n",
      "[358041.71132353]\n",
      "[358041.71132352]\n",
      "[358041.71132353]\n",
      "[358041.71132353]\n",
      "[358041.71132353]\n",
      "[358041.71132353]\n",
      "[358041.71132353]\n",
      "[358041.71132353]\n",
      "[358041.71132353]\n",
      "[358041.71132353]\n",
      "[358041.71132353]\n",
      "[358041.71132353]\n",
      "[358041.71132353]\n",
      "[358041.71132353]\n",
      "[358041.71132353]\n",
      "[358041.71132353]\n",
      "[358041.71132353]\n",
      "[358041.71132353]\n",
      "[358041.71132353]\n",
      "[358041.71132353]\n",
      "[358041.71132353]\n",
      "[358041.71132353]\n",
      "[358041.71132353]\n",
      "[358041.71132353]\n",
      "[358041.71132353]\n",
      "[358041.71132353]\n",
      "[358041.71132353]\n",
      "[358041.71132353]\n",
      "[358041.71132353]\n",
      "[358041.71132353]\n",
      "[358041.71132353]\n",
      "[358041.71132353]\n",
      "[358041.71132353]\n",
      "[358041.71132353]\n",
      "[358041.71132353]\n",
      "[358041.71132353]\n",
      "[358041.71132353]\n",
      "0.659567481053933 80.54363185482609\n"
     ]
    }
   ],
   "source": [
    "def hypothesis(theta,x):\n",
    "    return theta[0] + theta[1]*x\n",
    "\n",
    "def error(X,Y,theta):\n",
    "    total_error = 0\n",
    "    m = X.shape[0]\n",
    "    \n",
    "    for i in range(m):\n",
    "        total_error += (Y[i] - hypothesis(theta,X[i]))**2\n",
    "    \n",
    "    return 0.5*total_error\n",
    "\n",
    "def gradient(Y,X,theta):\n",
    "    grad = np.array([0.0,0.0])\n",
    "    m = X.shape[0]\n",
    "    for i in range(m):\n",
    "        grad[0] += -1*(Y[i] - hypothesis(theta,X[i]))\n",
    "        grad[1] += -1*(Y[i] - hypothesis(theta,X[i]))*X[i]        \n",
    "    return grad\n",
    "\n",
    "def gradientDescent(X,Y,learning_rate,maxItr):\n",
    "    grad = np.array([0.0,0.0])\n",
    "    theta = np.array([0.0,0.0])\n",
    "    e = []\n",
    "    \n",
    "    for i in range(maxItr):\n",
    "        grad = gradient(Y,X,theta)\n",
    "        ce = error(X,Y,theta)\n",
    "        print(ce)\n",
    "        theta[0] = theta[0] - learning_rate*grad[0]\n",
    "        theta[1] = theta[1] - learning_rate*grad[1]\n",
    "        e.append(ce)\n",
    "        \n",
    "    return theta,e\n",
    "                \n",
    "theta,e = gradientDescent(X,Y,learning_rate=0.0001,maxItr=100)\n",
    "print(theta[0],theta[1])"
   ]
  },
  {
   "cell_type": "code",
   "execution_count": 33,
   "metadata": {},
   "outputs": [
    {
     "data": {
      "image/png": "[encoded data removed]",
      "text/plain": [
       "<Figure size 432x288 with 1 Axes>"
      ]
     },
     "metadata": {
      "needs_background": "light"
     },
     "output_type": "display_data"
    }
   ],
   "source": [
    "#plt.scatter(X,Y)\n",
    "plt.scatter(z,hypothesis(theta,z),color='r')\n",
    "plt.show()"
   ]
  },
  {
   "cell_type": "code",
   "execution_count": 17,
   "metadata": {},
   "outputs": [
    {
     "data": {
      "image/png": "[encoded data removed]",
      "text/plain": [
       "<Figure size 432x288 with 1 Axes>"
      ]
     },
     "metadata": {
      "needs_background": "light"
     },
     "output_type": "display_data"
    }
   ],
   "source": [
    "plt.plot(e)\n",
    "plt.show()"
   ]
  },
  {
   "cell_type": "code",
   "execution_count": 27,
   "metadata": {},
   "outputs": [
    {
     "name": "stdout",
     "output_type": "stream",
     "text": [
      "[358041.71132353]\n"
     ]
    }
   ],
   "source": [
    "print(e[49])\n",
    "o=[]"
   ]
  },
  {
   "cell_type": "code",
   "execution_count": 31,
   "metadata": {},
   "outputs": [],
   "source": [
    "for i in z.values:\n",
    "    o.append(hypothesis(theta,i))"
   ]
  },
  {
   "cell_type": "code",
   "execution_count": 32,
   "metadata": {},
   "outputs": [
    {
     "data": {
      "text/plain": [
       "<matplotlib.collections.PathCollection at 0x1173f57b8>"
      ]
     },
     "execution_count": 32,
     "metadata": {},
     "output_type": "execute_result"
    },
    {
     "data": {
      "image/png": "[encoded data removed]",
      "text/plain": [
       "<Figure size 432x288 with 1 Axes>"
      ]
     },
     "metadata": {
      "needs_background": "light"
     },
     "output_type": "display_data"
    }
   ],
   "source": [
    "plt.scatter(z,o)"
   ]
  },
  {
   "cell_type": "code",
   "execution_count": 34,
   "metadata": {},
   "outputs": [],
   "source": [
    "o=pd.DataFrame(data=o,columns=[\"y\"])"
   ]
  },
  {
   "cell_type": "code",
   "execution_count": 35,
   "metadata": {},
   "outputs": [],
   "source": [
    "o.to_csv('Result.csv',index=False)"
   ]
  },
  {
   "cell_type": "code",
   "execution_count": null,
   "metadata": {},
   "outputs": [],
   "source": []
  }
 ],
 "metadata": {
  "kernelspec": {
   "display_name": "Python 3",
   "language": "python",
   "name": "python3"
  },
  "language_info": {
   "codemirror_mode": {
    "name": "ipython",
    "version": 3
   },
   "file_extension": ".py",
   "mimetype": "text/x-python",
   "name": "python",
   "nbconvert_exporter": "python",
   "pygments_lexer": "ipython3",
   "version": "3.7.3"
  }
 },
 "nbformat": 4,
 "nbformat_minor": 2
}
